{
 "cells": [
  {
   "cell_type": "markdown",
   "metadata": {},
   "source": [
    "# Import Dataset"
   ]
  },
  {
   "cell_type": "code",
   "execution_count": 1,
   "metadata": {},
   "outputs": [],
   "source": [
    "import pandas as pd\n",
    "import seaborn as sns\n",
    "import matplotlib.pyplot as plt\n",
    "import numpy as np\n",
    "\n",
    "width = 64\n",
    "height = 64"
   ]
  },
  {
   "cell_type": "code",
   "execution_count": 2,
   "metadata": {},
   "outputs": [],
   "source": [
    "df = pd.read_feather('velocity_fields_all_times.feather')\n"
   ]
  },
  {
   "cell_type": "code",
   "execution_count": 3,
   "metadata": {},
   "outputs": [
    {
     "name": "stdout",
     "output_type": "stream",
     "text": [
      "(1000, 6, 64, 64, 3)\n"
     ]
    }
   ],
   "source": [
    "df_idx = df.set_index(['scene','t','x','y'])\n",
    "del(df)\n",
    "df_xr = df_idx.to_xarray()\n",
    "del(df_idx)\n",
    "np_data = df_xr.to_dataarray().to_numpy()\n",
    "del(df_xr)\n",
    "np_data = np.moveaxis(np_data, 0, -1)\n",
    "print(np_data.shape)"
   ]
  },
  {
   "cell_type": "markdown",
   "metadata": {
    "id": "29I0ixXfD2CZ"
   },
   "source": [
    "# Generate Input Data"
   ]
  },
  {
   "cell_type": "code",
   "execution_count": null,
   "metadata": {
    "id": "b7Qg0ySfDyeh"
   },
   "outputs": [],
   "source": [
    "import numpy as np\n",
    "import matplotlib.pyplot as plt\n",
    "from scipy.ndimage import gaussian_filter\n",
    "import seaborn as sns"
   ]
  },
  {
   "cell_type": "code",
   "execution_count": null,
   "metadata": {
    "id": "GCTHSxlBEPYc"
   },
   "outputs": [],
   "source": [
    "width = 35\n",
    "height = 35\n",
    "n_examples = 100\n",
    "max_sigma = 3.0\n",
    "max_val = 1\n",
    "rng = np.random.default_rng()"
   ]
  },
  {
   "cell_type": "code",
   "execution_count": null,
   "metadata": {
    "id": "Zwid8sE8GEMN"
   },
   "outputs": [],
   "source": [
    "def heatmap(raw_data):\n",
    "  magnitude = np.linalg.norm(raw_data, axis=2)\n",
    "  sns.heatmap(magnitude)\n",
    "  plt.show()\n",
    "  return"
   ]
  },
  {
   "cell_type": "code",
   "execution_count": null,
   "metadata": {
    "id": "A1RTJwRGOLNK"
   },
   "outputs": [],
   "source": [
    "from matplotlib.animation import FuncAnimation\n",
    "\n",
    "def quiver(raw_data, ax=None):\n",
    "  if ax is None:\n",
    "    ax = plt.gca()\n",
    "  X, Y = np.meshgrid(np.linspace(0,1,width), np.linspace(0,1,height))\n",
    "  U = raw_data[:,:,0]\n",
    "  V = raw_data[:,:,1]\n",
    "  magnitude = np.linalg.norm(raw_data, axis=2)\n",
    "  return ax.quiver(X, Y, U, V, magnitude)\n",
    "\n",
    "fig, ax = plt.subplots(figsize=(8, 6))\n",
    "\n",
    "data = np_data[0, 0, :, :, :2]\n",
    "X, Y = np.meshgrid(np.linspace(0,1,width), np.linspace(0,1,height))\n",
    "U = data[:,:,0]\n",
    "V = data[:,:,1]\n",
    "magnitude = np.linalg.norm(data, axis=2)\n",
    "quiver_plot = ax.quiver(X, Y, U, V, magnitude)\n",
    "colorbar = plt.colorbar(quiver_plot, ax=ax)\n",
    "\n",
    "def update(frame):\n",
    "    ax.clear()\n",
    "    data = np_data[0, frame, :, :, :2]\n",
    "    X, Y = np.meshgrid(np.linspace(0,1,width), np.linspace(0,1,height))\n",
    "    U = data[:,:,0]\n",
    "    V = data[:,:,1]\n",
    "    magnitude = np.linalg.norm(data, axis=2)\n",
    "    quiver_plot = ax.quiver(X, Y, U, V, magnitude)\n",
    "    ax.set_title(f'Frame {frame}')\n",
    "    return quiver_plot,\n",
    "\n",
    "anim = FuncAnimation(fig, update, frames=11, interval=200, blit=False)\n",
    "anim.save('velocity_animation.gif', writer='pillow', fps=5)\n",
    "plt.show()"
   ]
  },
  {
   "cell_type": "code",
   "execution_count": null,
   "metadata": {
    "collapsed": true,
    "id": "nB36mRVBD1Lh"
   },
   "outputs": [],
   "source": [
    "def generate_frame(sigma=2):\n",
    "  data = rng.random((width, height, 2))\n",
    "  data = (data * max_val * 2) - max_val\n",
    "  blur = np.random.uniform(low=0.5, high=max_sigma)\n",
    "  data = gaussian_filter(data, sigma=(blur, blur, 0))\n",
    "  return data"
   ]
  },
  {
   "cell_type": "code",
   "execution_count": null,
   "metadata": {
    "id": "hnVO0w6OG68Z"
   },
   "outputs": [],
   "source": [
    "def generate_inputs(n):\n",
    "  return np.array([generate_frame() for _ in range(n)])"
   ]
  },
  {
   "cell_type": "code",
   "execution_count": null,
   "metadata": {
    "colab": {
     "base_uri": "https://localhost:8080/",
     "height": 1000
    },
    "collapsed": true,
    "id": "izgan9imHVsA",
    "outputId": "5975a922-7f40-4080-fab0-914b2c2a3bbb"
   },
   "outputs": [],
   "source": [
    "inputs = generate_inputs(n_examples)\n",
    "for i in range(5):\n",
    "  frame = inputs[i]\n",
    "  quiver(frame)"
   ]
  },
  {
   "cell_type": "markdown",
   "metadata": {
    "id": "vXBgSEJPL0CR"
   },
   "source": [
    "# Generate Labels"
   ]
  },
  {
   "cell_type": "code",
   "execution_count": null,
   "metadata": {
    "collapsed": true,
    "id": "4r1VhWIpLzGP"
   },
   "outputs": [],
   "source": [
    "def get_kinetic_engergy(frame):\n",
    "  kinetic_engergy = np.sum((0.5 * np.sum(np.square(frame), axis=2)))\n",
    "  return kinetic_engergy"
   ]
  },
  {
   "cell_type": "code",
   "execution_count": null,
   "metadata": {},
   "outputs": [],
   "source": [
    "def get_reynolds_number(frame):\n",
    "    velocity_magnitude = np.linalg.norm(frame, axis=2)\n",
    "    mean_velocity = np.mean(velocity_magnitude)\n",
    "    characteristic_length = min(width, height)\n",
    "    kinematic_viscosity = 1.0\n",
    "    reynolds_number = (mean_velocity * characteristic_length) / kinematic_viscosity\n",
    "    return reynolds_number"
   ]
  },
  {
   "cell_type": "code",
   "execution_count": null,
   "metadata": {
    "colab": {
     "base_uri": "https://localhost:8080/",
     "height": 1000
    },
    "id": "n2t4l3F-NiYV",
    "outputId": "260f3d0f-8cb1-472e-c57f-3cc5d1dcae58"
   },
   "outputs": [],
   "source": [
    "for i in range(5):\n",
    "  print(get_reynolds_number(np_data[i]))\n",
    "  quiver(np_data[i])"
   ]
  },
  {
   "cell_type": "code",
   "execution_count": null,
   "metadata": {
    "id": "Rag_RwwglMQI"
   },
   "outputs": [],
   "source": [
    "outputs = np.array([get_kinetic_engergy(input) for input in inputs])"
   ]
  },
  {
   "cell_type": "markdown",
   "metadata": {
    "id": "7xIbgJoEVqaw"
   },
   "source": [
    "# Generate graph representation"
   ]
  },
  {
   "cell_type": "code",
   "execution_count": null,
   "metadata": {},
   "outputs": [],
   "source": []
  },
  {
   "cell_type": "code",
   "execution_count": null,
   "metadata": {
    "colab": {
     "base_uri": "https://localhost:8080/"
    },
    "id": "RIEbK9rhVp1C",
    "outputId": "4f60e01e-df96-48b5-fadb-da62d8b87552"
   },
   "outputs": [],
   "source": [
    "import torch_geometric as pyg\n",
    "from torch_geometric.loader import DataLoader\n",
    "import networkx as nx\n",
    "import torch\n",
    "device = 'cuda' if torch.cuda.is_available() else 'cpu'\n",
    "print(f'Using device {device}')"
   ]
  },
  {
   "cell_type": "code",
   "execution_count": null,
   "metadata": {
    "id": "P2NnQuLvWUja"
   },
   "outputs": [],
   "source": [
    "def coords_to_id(x_pos, y_pos):\n",
    "    return width * x_pos + y_pos\n",
    "def id_to_coords(id):\n",
    "    return (id // width, id - width * (id // width))"
   ]
  },
  {
   "cell_type": "code",
   "execution_count": null,
   "metadata": {
    "id": "8YEWr4M8WUjb"
   },
   "outputs": [],
   "source": [
    "n_examples = 1000\n",
    "inputs = generate_inputs(n_examples)"
   ]
  },
  {
   "cell_type": "code",
   "execution_count": null,
   "metadata": {
    "id": "SzBOaWLqknQJ"
   },
   "outputs": [],
   "source": []
  },
  {
   "cell_type": "markdown",
   "metadata": {
    "id": "IAFbP_H2WUjb"
   },
   "source": [
    "Construct an edge list for a regular 2d grid representation of the fluid"
   ]
  },
  {
   "cell_type": "code",
   "execution_count": null,
   "metadata": {
    "id": "2CQqgtJdWUjb"
   },
   "outputs": [],
   "source": [
    "edge_list = []\n",
    "for x_pos in range(inputs.shape[1]):\n",
    "    for y_pos in range(inputs.shape[2]):\n",
    "        if(x_pos != inputs.shape[1]-1):\n",
    "            edge_list.append([coords_to_id(x_pos, y_pos), coords_to_id(x_pos+1, y_pos)])\n",
    "        if(y_pos != inputs.shape[2]-1):\n",
    "            edge_list.append([coords_to_id(x_pos, y_pos), coords_to_id(x_pos, y_pos+1)])\n",
    "        if((x_pos != inputs.shape[1]-1) and (y_pos != inputs.shape[2]-1)):\n",
    "            edge_list.append([coords_to_id(x_pos, y_pos), coords_to_id(x_pos+1, y_pos+1)])\n",
    "\n",
    "edge_list = torch.tensor(edge_list).to(device).T"
   ]
  },
  {
   "cell_type": "markdown",
   "metadata": {
    "id": "om2ClxUHWUjb"
   },
   "source": [
    "Construct dataloader object, now 100% ready for any pytorch geometric workflow"
   ]
  },
  {
   "cell_type": "code",
   "execution_count": null,
   "metadata": {
    "id": "x48EExg6WUjb"
   },
   "outputs": [],
   "source": [
    "x = torch.tensor(inputs).view(inputs.shape[0], -1, inputs.shape[-1]).to(device)\n",
    "data_list = []\n",
    "for i in range(100):\n",
    "    data_list.append(pyg.data.Data(x=x[i], edge_index=edge_list, y=get_kinetic_engergy(inputs[i])))\n",
    "loader = DataLoader(data_list, batch_size=32)"
   ]
  },
  {
   "cell_type": "markdown",
   "metadata": {
    "id": "705-MbBAWUjb"
   },
   "source": [
    "Sanity check: convert torch_geoemtric data object into NetworkX graph and visualize"
   ]
  },
  {
   "cell_type": "code",
   "execution_count": null,
   "metadata": {
    "colab": {
     "base_uri": "https://localhost:8080/",
     "height": 659
    },
    "id": "n4QR4RN_WUjb",
    "outputId": "6da9b713-9b61-4e88-938d-c6bb94a9054e"
   },
   "outputs": [],
   "source": [
    "i=0\n",
    "G = pyg.utils.to_networkx(data_list[i], to_undirected=True)\n",
    "pos = {n:id_to_coords(n) for n in G.nodes}\n",
    "\n",
    "plt.figure(figsize=(6, 6))\n",
    "nx.draw(\n",
    "    G, pos,\n",
    "    node_size=15,\n",
    "    node_color=[np.linalg.norm(a) for a in data_list[0].x.detach().cpu().numpy()],\n",
    "    edge_color=\"#444444\",\n",
    "    width=2,\n",
    "    font_size=8\n",
    ")\n",
    "plt.title(f'Graph {i} colored by total velocity. Total kinetic energy: {np.round(data_list[i].y, 2)}')\n",
    "plt.show()"
   ]
  },
  {
   "cell_type": "code",
   "execution_count": null,
   "metadata": {},
   "outputs": [],
   "source": []
  },
  {
   "cell_type": "markdown",
   "metadata": {
    "id": "YdWD40i-WUjc"
   },
   "source": [
    "### Representation as cubical complex (topomodelx)\n",
    "I still have to figure out how this works :/"
   ]
  },
  {
   "cell_type": "code",
   "execution_count": null,
   "metadata": {
    "id": "wvIio0SMWUjc"
   },
   "outputs": [],
   "source": [
    "import toponetx as tnx\n",
    "import topomodelx as tmx"
   ]
  },
  {
   "cell_type": "code",
   "execution_count": null,
   "metadata": {
    "colab": {
     "base_uri": "https://localhost:8080/"
    },
    "id": "RK39ZMOeWUjc",
    "outputId": "b3570e32-fa29-4d7a-b38f-e3f8abecd5c5"
   },
   "outputs": [],
   "source": [
    "G.edges"
   ]
  },
  {
   "cell_type": "code",
   "execution_count": null,
   "metadata": {
    "id": "V9AzVkncWUjc"
   },
   "outputs": [],
   "source": [
    "cubical_complex = tnx.transform.graph_to_clique_complex(G)"
   ]
  },
  {
   "cell_type": "code",
   "execution_count": null,
   "metadata": {
    "colab": {
     "base_uri": "https://localhost:8080/"
    },
    "id": "ZR_yBtf4WUjd",
    "outputId": "4098956e-6967-4f92-b347-a3f3c7b80ccc"
   },
   "outputs": [],
   "source": [
    "cubical_complex.complex"
   ]
  },
  {
   "cell_type": "markdown",
   "metadata": {
    "id": "fM37vaoIWT6_"
   },
   "source": [
    "# Questions\n",
    "- Which type of energy (instantanious total kinetic energy)?\n",
    "- How much smoothing?\n",
    "- What are nodes and edges (evenly distributed? con)\n"
   ]
  },
  {
   "cell_type": "markdown",
   "metadata": {
    "id": "b8DSGxvxWUjd"
   },
   "source": []
  },
  {
   "cell_type": "markdown",
   "metadata": {
    "id": "W52WQ6H7WUjd"
   },
   "source": []
  }
 ],
 "metadata": {
  "colab": {
   "provenance": []
  },
  "kernelspec": {
   "display_name": "venv",
   "language": "python",
   "name": "python3"
  },
  "language_info": {
   "codemirror_mode": {
    "name": "ipython",
    "version": 3
   },
   "file_extension": ".py",
   "mimetype": "text/x-python",
   "name": "python",
   "nbconvert_exporter": "python",
   "pygments_lexer": "ipython3",
   "version": "3.13.5"
  }
 },
 "nbformat": 4,
 "nbformat_minor": 0
}
