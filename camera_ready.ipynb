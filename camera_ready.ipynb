{
 "cells": [
  {
   "cell_type": "markdown",
   "metadata": {},
   "source": [
    "## Navier-Stokes Equations\n",
    "$$\n",
    "\\nabla \\overrightarrow{V} = 0\n",
    "$$\n",
    "$$\n",
    "\\rho \\frac{D\\overrightarrow{V}}{Dt} = -\\nabla p + \\rho \\overrightarrow{g} + \\mu \\nabla^2 \\overrightarrow{V}\n",
    "$$\n",
    "\n",
    "The Navier-Stokes equations describe the flow of fluids, relating changes in the velocity and pressure fields. Traditional 'solvers' use iterative numeric methods to solve for the velocity and pressure fields at each time step.\n",
    "\n",
    "In two dimensions, the velocity field is a $W * H * 2$ tensor, where $W$ and $H$ are the width and height of the fluid domain and the last dimension holds the two components of the velocity vector. The equations generalize to any dimensions, but only really make sense in up to three dimensions."
   ]
  },
  {
   "cell_type": "markdown",
   "metadata": {},
   "source": [
    "## Simplicial Neural Networks\n",
    "Simplicial neural networks (SNNs) are similar to graph neural network but also pass messages between higher order topological structures, or *simplexes*. \n",
    "\n",
    "![Any text here](simplex.png)"
   ]
  },
  {
   "cell_type": "markdown",
   "metadata": {},
   "source": [
    "They allow representation of higher oreder interactions between nodes. For example, a 2-simplex (triangle) could represent three people live in the same home, as opposed to saying each pair of people live together.\n"
   ]
  },
  {
   "cell_type": "markdown",
   "metadata": {},
   "source": [
    "## Problem Statement\n",
    "The goal of this lab is to leverage SNNs to predict the next frame (i.e. velocity field) of a fluid. We compare our SNN against a Graph Neural Network (GNN) as a baseline."
   ]
  },
  {
   "cell_type": "markdown",
   "metadata": {},
   "source": [
    "## Dataset\n",
    "We generated our own dataset using the FluidSim python library. This library includes solvers for several types of fluid simulation. We used the 2D Navier Stokes (`fluidsim.solvers.ns2d`), which solved the Navier-Stokes equations with a pseudo-spectral method.\n",
    "\n",
    "## Parameters\n",
    "The dataset was generated with the following parameters:\n",
    "- **Domain Dimensions:** 32x32 grid\n",
    "- **Input Field:** randomly generated velocity field, length: [0,5)\n",
    "- **Input Forces:** none (closed system)\n",
    "- **Number of Scenes:** 1000\n",
    "- **Steps simulated per scene:** 5\n",
    "\n",
    "In addition to calculating the velocity vector for each grid cell, FluidSim also calculates the rotation, a scalar describing how much the fluid in the cell is rotating. Each time step in the dataset is a grid of x velocity, y velocity, and rotation field values.\n",
    "\n",
    "Note: Generating the dataset took about ~25 minutes. Uncompressed, it's about 2.5 gigabytes."
   ]
  },
  {
   "cell_type": "markdown",
   "metadata": {},
   "source": [
    "## FluidSim Example Animation\n",
    "![Any text here](animation.gif)"
   ]
  },
  {
   "cell_type": "markdown",
   "metadata": {},
   "source": [
    "## Example Data\n",
    "Here are two scenes from our dataset. Scene inputs have varying amounts of 'smoothness' which is governed by the `params.init_fields.noise.length` field in FluidSim. We selected random lengths between 0 and 5.\n",
    "\n",
    "\n",
    "<img src=\"velocity_animation_0.gif\" width=\"60%\">\n",
    "<img src=\"velocity_animation_2.gif\" width=\"60%\">"
   ]
  },
  {
   "cell_type": "markdown",
   "metadata": {},
   "source": [
    "# Data Loading"
   ]
  },
  {
   "cell_type": "code",
   "execution_count": 1,
   "metadata": {},
   "outputs": [],
   "source": [
    "import pandas as pd\n",
    "import matplotlib.pyplot as plt\n",
    "import numpy as np"
   ]
  },
  {
   "cell_type": "code",
   "execution_count": 2,
   "metadata": {},
   "outputs": [
    {
     "name": "stdout",
     "output_type": "stream",
     "text": [
      "(1000, 6, 64, 64, 3)\n"
     ]
    }
   ],
   "source": [
    "# load the data into a dataframe\n",
    "df = pd.read_feather('velocity_fields_all_times.feather')\n",
    "# convert to an ndarray of shape (scene, t, x, y, features)\n",
    "df_idx = df.set_index(['scene','t','x','y'])\n",
    "del(df) # delete intermediates to save memory\n",
    "df_xr = df_idx.to_xarray()\n",
    "del(df_idx)\n",
    "np_data = df_xr.to_dataarray().to_numpy()\n",
    "del(df_xr)\n",
    "np_data = np.moveaxis(np_data, 0, -1)\n",
    "print(np_data.shape)"
   ]
  },
  {
   "cell_type": "markdown",
   "metadata": {},
   "source": [
    "## Conclusion\n",
    "\n",
    "Scenario 1:\n",
    "Our SNN performs X% better than the GNN at predicting the next frame of a fluid flow. We attribute this to the higher order features it can represent, providing more information to the model.\n",
    "\n",
    "Scenario 2:\n",
    "Our SNN performs about the same as the GNN baseline. The 'higher order' features of our model are somewhat contrived, as they are constructed from a regular grid and do not encode any additional meaning about the actual fluid flow. \n",
    "\n",
    "Scenario 3:\n",
    "Our SNN performs worse than the GNN baseline. The 'higher order' features of our model are somewhat contrived, as they are constructed from a regular grid and do not encode any additional meaning about the actual fluid flow, so these additional features add noise to the model and lead to worse performance."
   ]
  },
  {
   "cell_type": "markdown",
   "metadata": {},
   "source": []
  }
 ],
 "metadata": {
  "kernelspec": {
   "display_name": "venv",
   "language": "python",
   "name": "python3"
  },
  "language_info": {
   "codemirror_mode": {
    "name": "ipython",
    "version": 3
   },
   "file_extension": ".py",
   "mimetype": "text/x-python",
   "name": "python",
   "nbconvert_exporter": "python",
   "pygments_lexer": "ipython3",
   "version": "3.13.5"
  }
 },
 "nbformat": 4,
 "nbformat_minor": 2
}
